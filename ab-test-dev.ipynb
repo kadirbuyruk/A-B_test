{
 "cells": [
  {
   "cell_type": "code",
   "execution_count": 1,
   "id": "eef2240c",
   "metadata": {
    "_cell_guid": "b1076dfc-b9ad-4769-8c92-a6c4dae69d19",
    "_uuid": "8f2839f25d086af736a60e9eeb907d3b93b6e0e5",
    "execution": {
     "iopub.execute_input": "2023-10-15T19:57:34.554743Z",
     "iopub.status.busy": "2023-10-15T19:57:34.553397Z",
     "iopub.status.idle": "2023-10-15T19:57:35.836018Z",
     "shell.execute_reply": "2023-10-15T19:57:35.835048Z"
    },
    "papermill": {
     "duration": 1.293937,
     "end_time": "2023-10-15T19:57:35.838709",
     "exception": false,
     "start_time": "2023-10-15T19:57:34.544772",
     "status": "completed"
    },
    "tags": []
   },
   "outputs": [],
   "source": [
    "import itertools\n",
    "import pandas as pd\n",
    "import numpy as np\n",
    "import seaborn as sns\n",
    "import statsmodels.stats.api as sms\n",
    "from scipy.stats import ttest_1samp,shapiro,levene,ttest_ind,mannwhitneyu,f_oneway,kruskal\n",
    "from statsmodels.stats.proportion import proportions_ztest"
   ]
  },
  {
   "cell_type": "markdown",
   "id": "9bd1f6c7",
   "metadata": {
    "papermill": {
     "duration": 0.005791,
     "end_time": "2023-10-15T19:57:35.850405",
     "exception": false,
     "start_time": "2023-10-15T19:57:35.844614",
     "status": "completed"
    },
    "tags": []
   },
   "source": [
    "## Görev 1 (Veriyi Hazırlama ve Analiz Etme)"
   ]
  },
  {
   "cell_type": "markdown",
   "id": "41c802b4",
   "metadata": {
    "papermill": {
     "duration": 0.005313,
     "end_time": "2023-10-15T19:57:35.861410",
     "exception": false,
     "start_time": "2023-10-15T19:57:35.856097",
     "status": "completed"
    },
    "tags": []
   },
   "source": [
    "#### Adım 1\n",
    "- ab_testing_data.xlsxadlı kontrol ve test grubu verilerinden oluşan veri setini okutunuz. Kontrol ve test grubu verilerini ayrı değişkenlere atayınız."
   ]
  },
  {
   "cell_type": "code",
   "execution_count": 2,
   "id": "06fd860d",
   "metadata": {
    "execution": {
     "iopub.execute_input": "2023-10-15T19:57:35.874039Z",
     "iopub.status.busy": "2023-10-15T19:57:35.873605Z",
     "iopub.status.idle": "2023-10-15T19:57:36.276407Z",
     "shell.execute_reply": "2023-10-15T19:57:36.275368Z"
    },
    "papermill": {
     "duration": 0.412255,
     "end_time": "2023-10-15T19:57:36.279002",
     "exception": false,
     "start_time": "2023-10-15T19:57:35.866747",
     "status": "completed"
    },
    "tags": []
   },
   "outputs": [],
   "source": [
    "dfcontrol = pd.read_excel(r'../input/abtesti/ab_testing.xlsx',sheet_name='Control Group')\n",
    "\n",
    "dftest = pd.read_excel(r'../input/abtesti/ab_testing.xlsx', sheet_name='Test Group')"
   ]
  },
  {
   "cell_type": "code",
   "execution_count": 3,
   "id": "e029d895",
   "metadata": {
    "execution": {
     "iopub.execute_input": "2023-10-15T19:57:36.291824Z",
     "iopub.status.busy": "2023-10-15T19:57:36.291454Z",
     "iopub.status.idle": "2023-10-15T19:57:36.309923Z",
     "shell.execute_reply": "2023-10-15T19:57:36.308815Z"
    },
    "papermill": {
     "duration": 0.028077,
     "end_time": "2023-10-15T19:57:36.312583",
     "exception": false,
     "start_time": "2023-10-15T19:57:36.284506",
     "status": "completed"
    },
    "tags": []
   },
   "outputs": [
    {
     "data": {
      "text/html": [
       "<div>\n",
       "<style scoped>\n",
       "    .dataframe tbody tr th:only-of-type {\n",
       "        vertical-align: middle;\n",
       "    }\n",
       "\n",
       "    .dataframe tbody tr th {\n",
       "        vertical-align: top;\n",
       "    }\n",
       "\n",
       "    .dataframe thead th {\n",
       "        text-align: right;\n",
       "    }\n",
       "</style>\n",
       "<table border=\"1\" class=\"dataframe\">\n",
       "  <thead>\n",
       "    <tr style=\"text-align: right;\">\n",
       "      <th></th>\n",
       "      <th>Impression</th>\n",
       "      <th>Click</th>\n",
       "      <th>Purchase</th>\n",
       "      <th>Earning</th>\n",
       "    </tr>\n",
       "  </thead>\n",
       "  <tbody>\n",
       "    <tr>\n",
       "      <th>0</th>\n",
       "      <td>120103.503796</td>\n",
       "      <td>3216.547958</td>\n",
       "      <td>702.160346</td>\n",
       "      <td>1939.611243</td>\n",
       "    </tr>\n",
       "    <tr>\n",
       "      <th>1</th>\n",
       "      <td>134775.943363</td>\n",
       "      <td>3635.082422</td>\n",
       "      <td>834.054286</td>\n",
       "      <td>2929.405820</td>\n",
       "    </tr>\n",
       "    <tr>\n",
       "      <th>2</th>\n",
       "      <td>107806.620788</td>\n",
       "      <td>3057.143560</td>\n",
       "      <td>422.934258</td>\n",
       "      <td>2526.244877</td>\n",
       "    </tr>\n",
       "    <tr>\n",
       "      <th>3</th>\n",
       "      <td>116445.275526</td>\n",
       "      <td>4650.473911</td>\n",
       "      <td>429.033535</td>\n",
       "      <td>2281.428574</td>\n",
       "    </tr>\n",
       "    <tr>\n",
       "      <th>4</th>\n",
       "      <td>145082.516838</td>\n",
       "      <td>5201.387724</td>\n",
       "      <td>749.860442</td>\n",
       "      <td>2781.697521</td>\n",
       "    </tr>\n",
       "  </tbody>\n",
       "</table>\n",
       "</div>"
      ],
      "text/plain": [
       "      Impression        Click    Purchase      Earning\n",
       "0  120103.503796  3216.547958  702.160346  1939.611243\n",
       "1  134775.943363  3635.082422  834.054286  2929.405820\n",
       "2  107806.620788  3057.143560  422.934258  2526.244877\n",
       "3  116445.275526  4650.473911  429.033535  2281.428574\n",
       "4  145082.516838  5201.387724  749.860442  2781.697521"
      ]
     },
     "execution_count": 3,
     "metadata": {},
     "output_type": "execute_result"
    }
   ],
   "source": [
    "dftest.head()"
   ]
  },
  {
   "cell_type": "code",
   "execution_count": 4,
   "id": "b0c66f43",
   "metadata": {
    "execution": {
     "iopub.execute_input": "2023-10-15T19:57:36.326154Z",
     "iopub.status.busy": "2023-10-15T19:57:36.325200Z",
     "iopub.status.idle": "2023-10-15T19:57:36.335560Z",
     "shell.execute_reply": "2023-10-15T19:57:36.334813Z"
    },
    "papermill": {
     "duration": 0.019245,
     "end_time": "2023-10-15T19:57:36.337517",
     "exception": false,
     "start_time": "2023-10-15T19:57:36.318272",
     "status": "completed"
    },
    "tags": []
   },
   "outputs": [
    {
     "data": {
      "text/html": [
       "<div>\n",
       "<style scoped>\n",
       "    .dataframe tbody tr th:only-of-type {\n",
       "        vertical-align: middle;\n",
       "    }\n",
       "\n",
       "    .dataframe tbody tr th {\n",
       "        vertical-align: top;\n",
       "    }\n",
       "\n",
       "    .dataframe thead th {\n",
       "        text-align: right;\n",
       "    }\n",
       "</style>\n",
       "<table border=\"1\" class=\"dataframe\">\n",
       "  <thead>\n",
       "    <tr style=\"text-align: right;\">\n",
       "      <th></th>\n",
       "      <th>Impression</th>\n",
       "      <th>Click</th>\n",
       "      <th>Purchase</th>\n",
       "      <th>Earning</th>\n",
       "    </tr>\n",
       "  </thead>\n",
       "  <tbody>\n",
       "    <tr>\n",
       "      <th>0</th>\n",
       "      <td>82529.459271</td>\n",
       "      <td>6090.077317</td>\n",
       "      <td>665.211255</td>\n",
       "      <td>2311.277143</td>\n",
       "    </tr>\n",
       "    <tr>\n",
       "      <th>1</th>\n",
       "      <td>98050.451926</td>\n",
       "      <td>3382.861786</td>\n",
       "      <td>315.084895</td>\n",
       "      <td>1742.806855</td>\n",
       "    </tr>\n",
       "    <tr>\n",
       "      <th>2</th>\n",
       "      <td>82696.023549</td>\n",
       "      <td>4167.965750</td>\n",
       "      <td>458.083738</td>\n",
       "      <td>1797.827447</td>\n",
       "    </tr>\n",
       "    <tr>\n",
       "      <th>3</th>\n",
       "      <td>109914.400398</td>\n",
       "      <td>4910.882240</td>\n",
       "      <td>487.090773</td>\n",
       "      <td>1696.229178</td>\n",
       "    </tr>\n",
       "    <tr>\n",
       "      <th>4</th>\n",
       "      <td>108457.762630</td>\n",
       "      <td>5987.655811</td>\n",
       "      <td>441.034050</td>\n",
       "      <td>1543.720179</td>\n",
       "    </tr>\n",
       "  </tbody>\n",
       "</table>\n",
       "</div>"
      ],
      "text/plain": [
       "      Impression        Click    Purchase      Earning\n",
       "0   82529.459271  6090.077317  665.211255  2311.277143\n",
       "1   98050.451926  3382.861786  315.084895  1742.806855\n",
       "2   82696.023549  4167.965750  458.083738  1797.827447\n",
       "3  109914.400398  4910.882240  487.090773  1696.229178\n",
       "4  108457.762630  5987.655811  441.034050  1543.720179"
      ]
     },
     "execution_count": 4,
     "metadata": {},
     "output_type": "execute_result"
    }
   ],
   "source": [
    "dfcontrol.head()"
   ]
  },
  {
   "cell_type": "markdown",
   "id": "98ee927c",
   "metadata": {
    "papermill": {
     "duration": 0.007106,
     "end_time": "2023-10-15T19:57:36.350432",
     "exception": false,
     "start_time": "2023-10-15T19:57:36.343326",
     "status": "completed"
    },
    "tags": []
   },
   "source": [
    "#### Adım 2\n",
    "- Kontrol ve test grubu verilerini analiz ediniz."
   ]
  },
  {
   "cell_type": "code",
   "execution_count": 5,
   "id": "d57efe71",
   "metadata": {
    "execution": {
     "iopub.execute_input": "2023-10-15T19:57:36.364158Z",
     "iopub.status.busy": "2023-10-15T19:57:36.363134Z",
     "iopub.status.idle": "2023-10-15T19:57:36.402072Z",
     "shell.execute_reply": "2023-10-15T19:57:36.400900Z"
    },
    "papermill": {
     "duration": 0.04814,
     "end_time": "2023-10-15T19:57:36.404288",
     "exception": false,
     "start_time": "2023-10-15T19:57:36.356148",
     "status": "completed"
    },
    "tags": []
   },
   "outputs": [
    {
     "data": {
      "text/html": [
       "<div>\n",
       "<style scoped>\n",
       "    .dataframe tbody tr th:only-of-type {\n",
       "        vertical-align: middle;\n",
       "    }\n",
       "\n",
       "    .dataframe tbody tr th {\n",
       "        vertical-align: top;\n",
       "    }\n",
       "\n",
       "    .dataframe thead th {\n",
       "        text-align: right;\n",
       "    }\n",
       "</style>\n",
       "<table border=\"1\" class=\"dataframe\">\n",
       "  <thead>\n",
       "    <tr style=\"text-align: right;\">\n",
       "      <th></th>\n",
       "      <th>count</th>\n",
       "      <th>mean</th>\n",
       "      <th>std</th>\n",
       "      <th>min</th>\n",
       "      <th>25%</th>\n",
       "      <th>50%</th>\n",
       "      <th>75%</th>\n",
       "      <th>max</th>\n",
       "    </tr>\n",
       "  </thead>\n",
       "  <tbody>\n",
       "    <tr>\n",
       "      <th>Impression</th>\n",
       "      <td>40.0</td>\n",
       "      <td>101711.449068</td>\n",
       "      <td>20302.157862</td>\n",
       "      <td>45475.942965</td>\n",
       "      <td>85726.690349</td>\n",
       "      <td>99790.701078</td>\n",
       "      <td>115212.816543</td>\n",
       "      <td>147539.336329</td>\n",
       "    </tr>\n",
       "    <tr>\n",
       "      <th>Click</th>\n",
       "      <td>40.0</td>\n",
       "      <td>5100.657373</td>\n",
       "      <td>1329.985498</td>\n",
       "      <td>2189.753157</td>\n",
       "      <td>4124.304129</td>\n",
       "      <td>5001.220602</td>\n",
       "      <td>5923.803596</td>\n",
       "      <td>7959.125069</td>\n",
       "    </tr>\n",
       "    <tr>\n",
       "      <th>Purchase</th>\n",
       "      <td>40.0</td>\n",
       "      <td>550.894059</td>\n",
       "      <td>134.108201</td>\n",
       "      <td>267.028943</td>\n",
       "      <td>470.095533</td>\n",
       "      <td>531.206307</td>\n",
       "      <td>637.957088</td>\n",
       "      <td>801.795020</td>\n",
       "    </tr>\n",
       "    <tr>\n",
       "      <th>Earning</th>\n",
       "      <td>40.0</td>\n",
       "      <td>1908.568300</td>\n",
       "      <td>302.917783</td>\n",
       "      <td>1253.989525</td>\n",
       "      <td>1685.847205</td>\n",
       "      <td>1975.160522</td>\n",
       "      <td>2119.802784</td>\n",
       "      <td>2497.295218</td>\n",
       "    </tr>\n",
       "  </tbody>\n",
       "</table>\n",
       "</div>"
      ],
      "text/plain": [
       "            count           mean           std           min           25%  \\\n",
       "Impression   40.0  101711.449068  20302.157862  45475.942965  85726.690349   \n",
       "Click        40.0    5100.657373   1329.985498   2189.753157   4124.304129   \n",
       "Purchase     40.0     550.894059    134.108201    267.028943    470.095533   \n",
       "Earning      40.0    1908.568300    302.917783   1253.989525   1685.847205   \n",
       "\n",
       "                     50%            75%            max  \n",
       "Impression  99790.701078  115212.816543  147539.336329  \n",
       "Click        5001.220602    5923.803596    7959.125069  \n",
       "Purchase      531.206307     637.957088     801.795020  \n",
       "Earning      1975.160522    2119.802784    2497.295218  "
      ]
     },
     "execution_count": 5,
     "metadata": {},
     "output_type": "execute_result"
    }
   ],
   "source": [
    "dfcontrol.head()\n",
    "dfcontrol.shape\n",
    "dfcontrol.describe().T"
   ]
  },
  {
   "cell_type": "code",
   "execution_count": 6,
   "id": "e821509a",
   "metadata": {
    "execution": {
     "iopub.execute_input": "2023-10-15T19:57:36.418197Z",
     "iopub.status.busy": "2023-10-15T19:57:36.417772Z",
     "iopub.status.idle": "2023-10-15T19:57:36.442688Z",
     "shell.execute_reply": "2023-10-15T19:57:36.441553Z"
    },
    "papermill": {
     "duration": 0.034297,
     "end_time": "2023-10-15T19:57:36.444689",
     "exception": false,
     "start_time": "2023-10-15T19:57:36.410392",
     "status": "completed"
    },
    "tags": []
   },
   "outputs": [
    {
     "data": {
      "text/html": [
       "<div>\n",
       "<style scoped>\n",
       "    .dataframe tbody tr th:only-of-type {\n",
       "        vertical-align: middle;\n",
       "    }\n",
       "\n",
       "    .dataframe tbody tr th {\n",
       "        vertical-align: top;\n",
       "    }\n",
       "\n",
       "    .dataframe thead th {\n",
       "        text-align: right;\n",
       "    }\n",
       "</style>\n",
       "<table border=\"1\" class=\"dataframe\">\n",
       "  <thead>\n",
       "    <tr style=\"text-align: right;\">\n",
       "      <th></th>\n",
       "      <th>count</th>\n",
       "      <th>mean</th>\n",
       "      <th>std</th>\n",
       "      <th>min</th>\n",
       "      <th>25%</th>\n",
       "      <th>50%</th>\n",
       "      <th>75%</th>\n",
       "      <th>max</th>\n",
       "    </tr>\n",
       "  </thead>\n",
       "  <tbody>\n",
       "    <tr>\n",
       "      <th>Impression</th>\n",
       "      <td>40.0</td>\n",
       "      <td>120512.411758</td>\n",
       "      <td>18807.448712</td>\n",
       "      <td>79033.834921</td>\n",
       "      <td>112691.970770</td>\n",
       "      <td>119291.300775</td>\n",
       "      <td>132050.578933</td>\n",
       "      <td>158605.920483</td>\n",
       "    </tr>\n",
       "    <tr>\n",
       "      <th>Click</th>\n",
       "      <td>40.0</td>\n",
       "      <td>3967.549761</td>\n",
       "      <td>923.095073</td>\n",
       "      <td>1836.629861</td>\n",
       "      <td>3376.819024</td>\n",
       "      <td>3931.359804</td>\n",
       "      <td>4660.497911</td>\n",
       "      <td>6019.695079</td>\n",
       "    </tr>\n",
       "    <tr>\n",
       "      <th>Purchase</th>\n",
       "      <td>40.0</td>\n",
       "      <td>582.106097</td>\n",
       "      <td>161.152513</td>\n",
       "      <td>311.629515</td>\n",
       "      <td>444.626828</td>\n",
       "      <td>551.355732</td>\n",
       "      <td>699.862360</td>\n",
       "      <td>889.910460</td>\n",
       "    </tr>\n",
       "    <tr>\n",
       "      <th>Earning</th>\n",
       "      <td>40.0</td>\n",
       "      <td>2514.890733</td>\n",
       "      <td>282.730852</td>\n",
       "      <td>1939.611243</td>\n",
       "      <td>2280.537426</td>\n",
       "      <td>2544.666107</td>\n",
       "      <td>2761.545405</td>\n",
       "      <td>3171.489708</td>\n",
       "    </tr>\n",
       "  </tbody>\n",
       "</table>\n",
       "</div>"
      ],
      "text/plain": [
       "            count           mean           std           min            25%  \\\n",
       "Impression   40.0  120512.411758  18807.448712  79033.834921  112691.970770   \n",
       "Click        40.0    3967.549761    923.095073   1836.629861    3376.819024   \n",
       "Purchase     40.0     582.106097    161.152513    311.629515     444.626828   \n",
       "Earning      40.0    2514.890733    282.730852   1939.611243    2280.537426   \n",
       "\n",
       "                      50%            75%            max  \n",
       "Impression  119291.300775  132050.578933  158605.920483  \n",
       "Click         3931.359804    4660.497911    6019.695079  \n",
       "Purchase       551.355732     699.862360     889.910460  \n",
       "Earning       2544.666107    2761.545405    3171.489708  "
      ]
     },
     "execution_count": 6,
     "metadata": {},
     "output_type": "execute_result"
    }
   ],
   "source": [
    "dftest.head()\n",
    "dftest.shape\n",
    "dftest.describe().T"
   ]
  },
  {
   "cell_type": "code",
   "execution_count": 7,
   "id": "def95ac3",
   "metadata": {
    "execution": {
     "iopub.execute_input": "2023-10-15T19:57:36.459011Z",
     "iopub.status.busy": "2023-10-15T19:57:36.458601Z",
     "iopub.status.idle": "2023-10-15T19:57:36.464255Z",
     "shell.execute_reply": "2023-10-15T19:57:36.463139Z"
    },
    "papermill": {
     "duration": 0.015633,
     "end_time": "2023-10-15T19:57:36.466341",
     "exception": false,
     "start_time": "2023-10-15T19:57:36.450708",
     "status": "completed"
    },
    "tags": []
   },
   "outputs": [],
   "source": [
    "dfcontrol[\"GROUP\"] = \"control\"\n",
    "dftest[\"GROUP\"] = \"test\""
   ]
  },
  {
   "cell_type": "code",
   "execution_count": 8,
   "id": "cfdb2b7f",
   "metadata": {
    "execution": {
     "iopub.execute_input": "2023-10-15T19:57:36.480277Z",
     "iopub.status.busy": "2023-10-15T19:57:36.479872Z",
     "iopub.status.idle": "2023-10-15T19:57:36.492194Z",
     "shell.execute_reply": "2023-10-15T19:57:36.491047Z"
    },
    "papermill": {
     "duration": 0.021933,
     "end_time": "2023-10-15T19:57:36.494395",
     "exception": false,
     "start_time": "2023-10-15T19:57:36.472462",
     "status": "completed"
    },
    "tags": []
   },
   "outputs": [
    {
     "data": {
      "text/html": [
       "<div>\n",
       "<style scoped>\n",
       "    .dataframe tbody tr th:only-of-type {\n",
       "        vertical-align: middle;\n",
       "    }\n",
       "\n",
       "    .dataframe tbody tr th {\n",
       "        vertical-align: top;\n",
       "    }\n",
       "\n",
       "    .dataframe thead th {\n",
       "        text-align: right;\n",
       "    }\n",
       "</style>\n",
       "<table border=\"1\" class=\"dataframe\">\n",
       "  <thead>\n",
       "    <tr style=\"text-align: right;\">\n",
       "      <th></th>\n",
       "      <th>Impression</th>\n",
       "      <th>Click</th>\n",
       "      <th>Purchase</th>\n",
       "      <th>Earning</th>\n",
       "      <th>GROUP</th>\n",
       "    </tr>\n",
       "  </thead>\n",
       "  <tbody>\n",
       "    <tr>\n",
       "      <th>0</th>\n",
       "      <td>82529.459271</td>\n",
       "      <td>6090.077317</td>\n",
       "      <td>665.211255</td>\n",
       "      <td>2311.277143</td>\n",
       "      <td>control</td>\n",
       "    </tr>\n",
       "    <tr>\n",
       "      <th>1</th>\n",
       "      <td>98050.451926</td>\n",
       "      <td>3382.861786</td>\n",
       "      <td>315.084895</td>\n",
       "      <td>1742.806855</td>\n",
       "      <td>control</td>\n",
       "    </tr>\n",
       "    <tr>\n",
       "      <th>2</th>\n",
       "      <td>82696.023549</td>\n",
       "      <td>4167.965750</td>\n",
       "      <td>458.083738</td>\n",
       "      <td>1797.827447</td>\n",
       "      <td>control</td>\n",
       "    </tr>\n",
       "    <tr>\n",
       "      <th>3</th>\n",
       "      <td>109914.400398</td>\n",
       "      <td>4910.882240</td>\n",
       "      <td>487.090773</td>\n",
       "      <td>1696.229178</td>\n",
       "      <td>control</td>\n",
       "    </tr>\n",
       "    <tr>\n",
       "      <th>4</th>\n",
       "      <td>108457.762630</td>\n",
       "      <td>5987.655811</td>\n",
       "      <td>441.034050</td>\n",
       "      <td>1543.720179</td>\n",
       "      <td>control</td>\n",
       "    </tr>\n",
       "  </tbody>\n",
       "</table>\n",
       "</div>"
      ],
      "text/plain": [
       "      Impression        Click    Purchase      Earning    GROUP\n",
       "0   82529.459271  6090.077317  665.211255  2311.277143  control\n",
       "1   98050.451926  3382.861786  315.084895  1742.806855  control\n",
       "2   82696.023549  4167.965750  458.083738  1797.827447  control\n",
       "3  109914.400398  4910.882240  487.090773  1696.229178  control\n",
       "4  108457.762630  5987.655811  441.034050  1543.720179  control"
      ]
     },
     "execution_count": 8,
     "metadata": {},
     "output_type": "execute_result"
    }
   ],
   "source": [
    "dfcontrol.head()"
   ]
  },
  {
   "cell_type": "markdown",
   "id": "3d1750d5",
   "metadata": {
    "papermill": {
     "duration": 0.006072,
     "end_time": "2023-10-15T19:57:36.506867",
     "exception": false,
     "start_time": "2023-10-15T19:57:36.500795",
     "status": "completed"
    },
    "tags": []
   },
   "source": [
    "#### Adım 3\n",
    "- Analiz işleminden sonra concatmetodunu kullanarak kontrol ve test grubu verilerini birleştiriniz."
   ]
  },
  {
   "cell_type": "code",
   "execution_count": 9,
   "id": "0268690b",
   "metadata": {
    "execution": {
     "iopub.execute_input": "2023-10-15T19:57:36.521525Z",
     "iopub.status.busy": "2023-10-15T19:57:36.520895Z",
     "iopub.status.idle": "2023-10-15T19:57:36.526763Z",
     "shell.execute_reply": "2023-10-15T19:57:36.525974Z"
    },
    "papermill": {
     "duration": 0.015987,
     "end_time": "2023-10-15T19:57:36.529080",
     "exception": false,
     "start_time": "2023-10-15T19:57:36.513093",
     "status": "completed"
    },
    "tags": []
   },
   "outputs": [],
   "source": [
    "df=pd.concat([dfcontrol,dftest])"
   ]
  },
  {
   "cell_type": "code",
   "execution_count": 10,
   "id": "e8f653b9",
   "metadata": {
    "execution": {
     "iopub.execute_input": "2023-10-15T19:57:36.544383Z",
     "iopub.status.busy": "2023-10-15T19:57:36.543718Z",
     "iopub.status.idle": "2023-10-15T19:57:36.557784Z",
     "shell.execute_reply": "2023-10-15T19:57:36.556956Z"
    },
    "papermill": {
     "duration": 0.023983,
     "end_time": "2023-10-15T19:57:36.559698",
     "exception": false,
     "start_time": "2023-10-15T19:57:36.535715",
     "status": "completed"
    },
    "tags": []
   },
   "outputs": [
    {
     "data": {
      "text/html": [
       "<div>\n",
       "<style scoped>\n",
       "    .dataframe tbody tr th:only-of-type {\n",
       "        vertical-align: middle;\n",
       "    }\n",
       "\n",
       "    .dataframe tbody tr th {\n",
       "        vertical-align: top;\n",
       "    }\n",
       "\n",
       "    .dataframe thead th {\n",
       "        text-align: right;\n",
       "    }\n",
       "</style>\n",
       "<table border=\"1\" class=\"dataframe\">\n",
       "  <thead>\n",
       "    <tr style=\"text-align: right;\">\n",
       "      <th></th>\n",
       "      <th>Impression</th>\n",
       "      <th>Click</th>\n",
       "      <th>Purchase</th>\n",
       "      <th>Earning</th>\n",
       "      <th>GROUP</th>\n",
       "    </tr>\n",
       "  </thead>\n",
       "  <tbody>\n",
       "    <tr>\n",
       "      <th>0</th>\n",
       "      <td>82529.459271</td>\n",
       "      <td>6090.077317</td>\n",
       "      <td>665.211255</td>\n",
       "      <td>2311.277143</td>\n",
       "      <td>control</td>\n",
       "    </tr>\n",
       "    <tr>\n",
       "      <th>1</th>\n",
       "      <td>98050.451926</td>\n",
       "      <td>3382.861786</td>\n",
       "      <td>315.084895</td>\n",
       "      <td>1742.806855</td>\n",
       "      <td>control</td>\n",
       "    </tr>\n",
       "    <tr>\n",
       "      <th>2</th>\n",
       "      <td>82696.023549</td>\n",
       "      <td>4167.965750</td>\n",
       "      <td>458.083738</td>\n",
       "      <td>1797.827447</td>\n",
       "      <td>control</td>\n",
       "    </tr>\n",
       "    <tr>\n",
       "      <th>3</th>\n",
       "      <td>109914.400398</td>\n",
       "      <td>4910.882240</td>\n",
       "      <td>487.090773</td>\n",
       "      <td>1696.229178</td>\n",
       "      <td>control</td>\n",
       "    </tr>\n",
       "    <tr>\n",
       "      <th>4</th>\n",
       "      <td>108457.762630</td>\n",
       "      <td>5987.655811</td>\n",
       "      <td>441.034050</td>\n",
       "      <td>1543.720179</td>\n",
       "      <td>control</td>\n",
       "    </tr>\n",
       "    <tr>\n",
       "      <th>...</th>\n",
       "      <td>...</td>\n",
       "      <td>...</td>\n",
       "      <td>...</td>\n",
       "      <td>...</td>\n",
       "      <td>...</td>\n",
       "    </tr>\n",
       "    <tr>\n",
       "      <th>35</th>\n",
       "      <td>79234.911929</td>\n",
       "      <td>6002.213585</td>\n",
       "      <td>382.047116</td>\n",
       "      <td>2277.863984</td>\n",
       "      <td>test</td>\n",
       "    </tr>\n",
       "    <tr>\n",
       "      <th>36</th>\n",
       "      <td>130702.239410</td>\n",
       "      <td>3626.320072</td>\n",
       "      <td>449.824592</td>\n",
       "      <td>2530.841327</td>\n",
       "      <td>test</td>\n",
       "    </tr>\n",
       "    <tr>\n",
       "      <th>37</th>\n",
       "      <td>116481.873365</td>\n",
       "      <td>4702.782468</td>\n",
       "      <td>472.453725</td>\n",
       "      <td>2597.917632</td>\n",
       "      <td>test</td>\n",
       "    </tr>\n",
       "    <tr>\n",
       "      <th>38</th>\n",
       "      <td>79033.834921</td>\n",
       "      <td>4495.428177</td>\n",
       "      <td>425.359102</td>\n",
       "      <td>2595.857880</td>\n",
       "      <td>test</td>\n",
       "    </tr>\n",
       "    <tr>\n",
       "      <th>39</th>\n",
       "      <td>102257.454089</td>\n",
       "      <td>4800.068321</td>\n",
       "      <td>521.310729</td>\n",
       "      <td>2967.518390</td>\n",
       "      <td>test</td>\n",
       "    </tr>\n",
       "  </tbody>\n",
       "</table>\n",
       "<p>80 rows × 5 columns</p>\n",
       "</div>"
      ],
      "text/plain": [
       "       Impression        Click    Purchase      Earning    GROUP\n",
       "0    82529.459271  6090.077317  665.211255  2311.277143  control\n",
       "1    98050.451926  3382.861786  315.084895  1742.806855  control\n",
       "2    82696.023549  4167.965750  458.083738  1797.827447  control\n",
       "3   109914.400398  4910.882240  487.090773  1696.229178  control\n",
       "4   108457.762630  5987.655811  441.034050  1543.720179  control\n",
       "..            ...          ...         ...          ...      ...\n",
       "35   79234.911929  6002.213585  382.047116  2277.863984     test\n",
       "36  130702.239410  3626.320072  449.824592  2530.841327     test\n",
       "37  116481.873365  4702.782468  472.453725  2597.917632     test\n",
       "38   79033.834921  4495.428177  425.359102  2595.857880     test\n",
       "39  102257.454089  4800.068321  521.310729  2967.518390     test\n",
       "\n",
       "[80 rows x 5 columns]"
      ]
     },
     "execution_count": 10,
     "metadata": {},
     "output_type": "execute_result"
    }
   ],
   "source": [
    "df"
   ]
  },
  {
   "cell_type": "markdown",
   "id": "fa22df93",
   "metadata": {
    "papermill": {
     "duration": 0.006187,
     "end_time": "2023-10-15T19:57:36.572609",
     "exception": false,
     "start_time": "2023-10-15T19:57:36.566422",
     "status": "completed"
    },
    "tags": []
   },
   "source": [
    "## GÖREV 2 : A/B Testinin Hipotezinin Tanımlanması"
   ]
  },
  {
   "cell_type": "markdown",
   "id": "9e9c182a",
   "metadata": {
    "papermill": {
     "duration": 0.006221,
     "end_time": "2023-10-15T19:57:36.585324",
     "exception": false,
     "start_time": "2023-10-15T19:57:36.579103",
     "status": "completed"
    },
    "tags": []
   },
   "source": [
    "#### Adım 1\n",
    "- Hipotezi tanımlayınız."
   ]
  },
  {
   "cell_type": "code",
   "execution_count": 11,
   "id": "e83ec6fd",
   "metadata": {
    "execution": {
     "iopub.execute_input": "2023-10-15T19:57:36.600226Z",
     "iopub.status.busy": "2023-10-15T19:57:36.599586Z",
     "iopub.status.idle": "2023-10-15T19:57:36.603075Z",
     "shell.execute_reply": "2023-10-15T19:57:36.602375Z"
    },
    "papermill": {
     "duration": 0.013172,
     "end_time": "2023-10-15T19:57:36.604849",
     "exception": false,
     "start_time": "2023-10-15T19:57:36.591677",
     "status": "completed"
    },
    "tags": []
   },
   "outputs": [],
   "source": [
    "#H0 :  Kontrol ve Test grubu satın alma ortalamaları arasında istatistiki olarak anlamlı bir fark yoktur.\n",
    "#H0 : M1 = M2\n",
    "#H1 : M1!= M2"
   ]
  },
  {
   "cell_type": "markdown",
   "id": "bd58caad",
   "metadata": {
    "papermill": {
     "duration": 0.006335,
     "end_time": "2023-10-15T19:57:36.617706",
     "exception": false,
     "start_time": "2023-10-15T19:57:36.611371",
     "status": "completed"
    },
    "tags": []
   },
   "source": [
    "#### Adım 2 \n",
    "- Kontrol ve test grubu için Purchase(kazanç) ortalamalarını analiz ediniz."
   ]
  },
  {
   "cell_type": "code",
   "execution_count": 12,
   "id": "3fdfcab5",
   "metadata": {
    "execution": {
     "iopub.execute_input": "2023-10-15T19:57:36.632981Z",
     "iopub.status.busy": "2023-10-15T19:57:36.632385Z",
     "iopub.status.idle": "2023-10-15T19:57:36.646734Z",
     "shell.execute_reply": "2023-10-15T19:57:36.645613Z"
    },
    "papermill": {
     "duration": 0.024853,
     "end_time": "2023-10-15T19:57:36.649117",
     "exception": false,
     "start_time": "2023-10-15T19:57:36.624264",
     "status": "completed"
    },
    "tags": []
   },
   "outputs": [
    {
     "data": {
      "text/html": [
       "<div>\n",
       "<style scoped>\n",
       "    .dataframe tbody tr th:only-of-type {\n",
       "        vertical-align: middle;\n",
       "    }\n",
       "\n",
       "    .dataframe tbody tr th {\n",
       "        vertical-align: top;\n",
       "    }\n",
       "\n",
       "    .dataframe thead tr th {\n",
       "        text-align: left;\n",
       "    }\n",
       "\n",
       "    .dataframe thead tr:last-of-type th {\n",
       "        text-align: right;\n",
       "    }\n",
       "</style>\n",
       "<table border=\"1\" class=\"dataframe\">\n",
       "  <thead>\n",
       "    <tr>\n",
       "      <th></th>\n",
       "      <th>Purchase</th>\n",
       "    </tr>\n",
       "    <tr>\n",
       "      <th></th>\n",
       "      <th>mean</th>\n",
       "    </tr>\n",
       "    <tr>\n",
       "      <th>GROUP</th>\n",
       "      <th></th>\n",
       "    </tr>\n",
       "  </thead>\n",
       "  <tbody>\n",
       "    <tr>\n",
       "      <th>control</th>\n",
       "      <td>550.894059</td>\n",
       "    </tr>\n",
       "    <tr>\n",
       "      <th>test</th>\n",
       "      <td>582.106097</td>\n",
       "    </tr>\n",
       "  </tbody>\n",
       "</table>\n",
       "</div>"
      ],
      "text/plain": [
       "           Purchase\n",
       "               mean\n",
       "GROUP              \n",
       "control  550.894059\n",
       "test     582.106097"
      ]
     },
     "execution_count": 12,
     "metadata": {},
     "output_type": "execute_result"
    }
   ],
   "source": [
    "df.groupby(\"GROUP\").agg({\"Purchase\":[np.mean]})"
   ]
  },
  {
   "cell_type": "markdown",
   "id": "596f078f",
   "metadata": {
    "papermill": {
     "duration": 0.006464,
     "end_time": "2023-10-15T19:57:36.662587",
     "exception": false,
     "start_time": "2023-10-15T19:57:36.656123",
     "status": "completed"
    },
    "tags": []
   },
   "source": [
    "## GÖREV 3: Hipotez Testinin Gerçekleştirilmesi"
   ]
  },
  {
   "cell_type": "markdown",
   "id": "0f8ed600",
   "metadata": {
    "papermill": {
     "duration": 0.006292,
     "end_time": "2023-10-15T19:57:36.675481",
     "exception": false,
     "start_time": "2023-10-15T19:57:36.669189",
     "status": "completed"
    },
    "tags": []
   },
   "source": [
    "#### Adım 1\n",
    "- Hipotez testi yapılmadan önce varsayım kontrollerini yapınız."
   ]
  },
  {
   "cell_type": "code",
   "execution_count": 13,
   "id": "8414003d",
   "metadata": {
    "execution": {
     "iopub.execute_input": "2023-10-15T19:57:36.691017Z",
     "iopub.status.busy": "2023-10-15T19:57:36.690075Z",
     "iopub.status.idle": "2023-10-15T19:57:36.697810Z",
     "shell.execute_reply": "2023-10-15T19:57:36.696864Z"
    },
    "papermill": {
     "duration": 0.017664,
     "end_time": "2023-10-15T19:57:36.699811",
     "exception": false,
     "start_time": "2023-10-15T19:57:36.682147",
     "status": "completed"
    },
    "tags": []
   },
   "outputs": [
    {
     "name": "stdout",
     "output_type": "stream",
     "text": [
      "Test Stat=0.9773,p-value = 0.5891\n"
     ]
    }
   ],
   "source": [
    "# Normallik Varsayımı(control için):\n",
    "test_stat,pvalue=shapiro(df.loc[df[\"GROUP\"]=='control',\"Purchase\"])\n",
    "print(\"Test Stat=%.4f,p-value = %.4f\"%(test_stat,pvalue))"
   ]
  },
  {
   "cell_type": "code",
   "execution_count": 14,
   "id": "1667419c",
   "metadata": {
    "execution": {
     "iopub.execute_input": "2023-10-15T19:57:36.715969Z",
     "iopub.status.busy": "2023-10-15T19:57:36.715516Z",
     "iopub.status.idle": "2023-10-15T19:57:36.720366Z",
     "shell.execute_reply": "2023-10-15T19:57:36.719451Z"
    },
    "papermill": {
     "duration": 0.014868,
     "end_time": "2023-10-15T19:57:36.722122",
     "exception": false,
     "start_time": "2023-10-15T19:57:36.707254",
     "status": "completed"
    },
    "tags": []
   },
   "outputs": [],
   "source": [
    "# p-value > 0.05 \n",
    "# H0: reddeddilmez.Normallik sağlanır."
   ]
  },
  {
   "cell_type": "code",
   "execution_count": 15,
   "id": "d7558c83",
   "metadata": {
    "execution": {
     "iopub.execute_input": "2023-10-15T19:57:36.740578Z",
     "iopub.status.busy": "2023-10-15T19:57:36.739929Z",
     "iopub.status.idle": "2023-10-15T19:57:36.746051Z",
     "shell.execute_reply": "2023-10-15T19:57:36.745055Z"
    },
    "papermill": {
     "duration": 0.01676,
     "end_time": "2023-10-15T19:57:36.747896",
     "exception": false,
     "start_time": "2023-10-15T19:57:36.731136",
     "status": "completed"
    },
    "tags": []
   },
   "outputs": [
    {
     "name": "stdout",
     "output_type": "stream",
     "text": [
      "Test Stat=0.9589  , p-value = 0.1541\n"
     ]
    }
   ],
   "source": [
    "# Normallik Varsayımı(test için)\n",
    "test_stat,pvalue=shapiro(df.loc[df[\"GROUP\"]==\"test\",\"Purchase\"])\n",
    "print(\"Test Stat=%.4f  , p-value = %.4f\"%(test_stat,pvalue))"
   ]
  },
  {
   "cell_type": "code",
   "execution_count": 16,
   "id": "8b23f261",
   "metadata": {
    "execution": {
     "iopub.execute_input": "2023-10-15T19:57:36.763337Z",
     "iopub.status.busy": "2023-10-15T19:57:36.762640Z",
     "iopub.status.idle": "2023-10-15T19:57:36.766320Z",
     "shell.execute_reply": "2023-10-15T19:57:36.765586Z"
    },
    "papermill": {
     "duration": 0.013453,
     "end_time": "2023-10-15T19:57:36.768066",
     "exception": false,
     "start_time": "2023-10-15T19:57:36.754613",
     "status": "completed"
    },
    "tags": []
   },
   "outputs": [],
   "source": [
    "# p-value >0.05\n",
    "# H0: Reddedilmez.Normallik sağlanır."
   ]
  },
  {
   "cell_type": "code",
   "execution_count": 17,
   "id": "ea4d7fdd",
   "metadata": {
    "execution": {
     "iopub.execute_input": "2023-10-15T19:57:36.783512Z",
     "iopub.status.busy": "2023-10-15T19:57:36.782855Z",
     "iopub.status.idle": "2023-10-15T19:57:36.790576Z",
     "shell.execute_reply": "2023-10-15T19:57:36.789490Z"
    },
    "papermill": {
     "duration": 0.017722,
     "end_time": "2023-10-15T19:57:36.792600",
     "exception": false,
     "start_time": "2023-10-15T19:57:36.774878",
     "status": "completed"
    },
    "tags": []
   },
   "outputs": [
    {
     "name": "stdout",
     "output_type": "stream",
     "text": [
      "Test Stat=2.6393 , p-value=0.1083\n"
     ]
    }
   ],
   "source": [
    "# Varyans Homojenliği\n",
    "test_stat,pvalue=levene(df.loc[df[\"GROUP\"]==\"control\",\"Purchase\"],\n",
    "                        df.loc[df[\"GROUP\"]==\"test\",\"Purchase\"])\n",
    "print(\"Test Stat=%.4f , p-value=%.4f\"%(test_stat,pvalue))\n"
   ]
  },
  {
   "cell_type": "code",
   "execution_count": 18,
   "id": "bc5e37cd",
   "metadata": {
    "execution": {
     "iopub.execute_input": "2023-10-15T19:57:36.808294Z",
     "iopub.status.busy": "2023-10-15T19:57:36.807925Z",
     "iopub.status.idle": "2023-10-15T19:57:36.811783Z",
     "shell.execute_reply": "2023-10-15T19:57:36.810905Z"
    },
    "papermill": {
     "duration": 0.014187,
     "end_time": "2023-10-15T19:57:36.813709",
     "exception": false,
     "start_time": "2023-10-15T19:57:36.799522",
     "status": "completed"
    },
    "tags": []
   },
   "outputs": [],
   "source": [
    "# p-value > 0.05\n",
    "# H0:Reddedilmez.Varyans homojenliği sağlanır."
   ]
  },
  {
   "cell_type": "code",
   "execution_count": 19,
   "id": "4987f3c7",
   "metadata": {
    "execution": {
     "iopub.execute_input": "2023-10-15T19:57:36.829882Z",
     "iopub.status.busy": "2023-10-15T19:57:36.829160Z",
     "iopub.status.idle": "2023-10-15T19:57:36.836335Z",
     "shell.execute_reply": "2023-10-15T19:57:36.835306Z"
    },
    "papermill": {
     "duration": 0.017432,
     "end_time": "2023-10-15T19:57:36.838217",
     "exception": false,
     "start_time": "2023-10-15T19:57:36.820785",
     "status": "completed"
    },
    "tags": []
   },
   "outputs": [
    {
     "name": "stdout",
     "output_type": "stream",
     "text": [
      "Test Stat=-0.9416 , p-value=0.3493\n"
     ]
    }
   ],
   "source": [
    "test_stat,pvalue=ttest_ind(df.loc[df[\"GROUP\"]==\"control\",\"Purchase\"],\n",
    "                        df.loc[df[\"GROUP\"]==\"test\",\"Purchase\"])\n",
    "print(\"Test Stat=%.4f , p-value=%.4f\"%(test_stat,pvalue))"
   ]
  },
  {
   "cell_type": "code",
   "execution_count": 20,
   "id": "5a0dc361",
   "metadata": {
    "execution": {
     "iopub.execute_input": "2023-10-15T19:57:36.853955Z",
     "iopub.status.busy": "2023-10-15T19:57:36.853272Z",
     "iopub.status.idle": "2023-10-15T19:57:36.857336Z",
     "shell.execute_reply": "2023-10-15T19:57:36.856531Z"
    },
    "papermill": {
     "duration": 0.014218,
     "end_time": "2023-10-15T19:57:36.859241",
     "exception": false,
     "start_time": "2023-10-15T19:57:36.845023",
     "status": "completed"
    },
    "tags": []
   },
   "outputs": [],
   "source": [
    "# p-value = 0.3493 olduğu için H0 REDDEDİLEMEZ!\n",
    "# H0 :  kontrol ve test grubu satın alma ortalamaları arasında istatistiki olarak anlamlı bir fark YOKTUR.\n",
    "# Yani fark şans eseri ortaya çıkmıştır.\n"
   ]
  }
 ],
 "metadata": {
  "kernelspec": {
   "display_name": "Python 3",
   "language": "python",
   "name": "python3"
  },
  "language_info": {
   "codemirror_mode": {
    "name": "ipython",
    "version": 3
   },
   "file_extension": ".py",
   "mimetype": "text/x-python",
   "name": "python",
   "nbconvert_exporter": "python",
   "pygments_lexer": "ipython3",
   "version": "3.7.12"
  },
  "papermill": {
   "default_parameters": {},
   "duration": 12.486257,
   "end_time": "2023-10-15T19:57:37.586823",
   "environment_variables": {},
   "exception": null,
   "input_path": "__notebook__.ipynb",
   "output_path": "__notebook__.ipynb",
   "parameters": {},
   "start_time": "2023-10-15T19:57:25.100566",
   "version": "2.3.4"
  }
 },
 "nbformat": 4,
 "nbformat_minor": 5
}
